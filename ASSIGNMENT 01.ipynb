{
 "cells": [
  {
   "cell_type": "code",
   "execution_count": null,
   "metadata": {},
   "outputs": [],
   "source": [
    "#saylani assignment by abdul rafay"
   ]
  },
  {
   "cell_type": "code",
   "execution_count": null,
   "metadata": {},
   "outputs": [
    {
     "name": "stdout",
     "output_type": "stream",
     "text": [
      "Twinkle, twinkle, little star,\n",
      "\tHow I wonder what you are!\n",
      "\t\tUp above the world so high,\n",
      "\t\tLike a diamond in the sky.\n",
      "Twinkle, Twinkle, little star,\n",
      "\tHow I wonder what you are\n",
      "3.7.0 (default, Jun 28 2018, 08:04:48) [MSC v.1912 64 bit (AMD64)]\n",
      "2019-11-28 10:05:32.481045\n"
     ]
    }
   ],
   "source": [
    "#ASSIGNMENT 01\n",
    "#Q1\n",
    "print('Twinkle, twinkle, little star,\\n\\tHow I wonder what you are!\\n\\t\\tUp above the world so high,\\n\\t\\tLike a diamond in the sky.\\nTwinkle, Twinkle, little star,\\n\\tHow I wonder what you are')\n",
    "\n",
    "#Q2\n",
    "import sys\n",
    "print(sys.version)\n",
    "\n",
    "#Q3\n",
    "import datetime\n",
    "print(datetime.datetime.today())\n",
    "\n",
    "#Q4\n",
    "input1 = int(input(\"enter the radius of circle\"))\n",
    "print(\"area of circle is : \",2*3.142*input1)\n",
    "\n",
    "#Q5\n",
    "f_name = input(\"First name : \")\n",
    "l_name = input(\"Last name : \")\n",
    "print(l_name + ' ' + f_name)\n",
    "\n",
    "#Q6\n",
    "n1 = int(input(\"input number 01 :\"))\n",
    "n2 = int(input(\"input number 02 :\"))\n",
    "print(n1+n2)\n"
   ]
  },
  {
   "cell_type": "code",
   "execution_count": 1,
   "metadata": {},
   "outputs": [
    {
     "name": "stderr",
     "output_type": "stream",
     "text": [
      "D:\\anaconda\\lib\\site-packages\\ipykernel\\parentpoller.py:116: UserWarning: Parent poll failed.  If the frontend dies,\n",
      "                the kernel may be left running.  Please let us know\n",
      "                about your system (bitness, Python, etc.) at\n",
      "                ipython-dev@scipy.org\n",
      "  ipython-dev@scipy.org\"\"\")\n"
     ]
    },
    {
     "name": "stdout",
     "output_type": "stream",
     "text": [
      "science marks:1\n",
      "maths marks:2\n",
      "english marks:52\n",
      "urdu marks:123\n",
      "chemistry marks:32\n",
      "Total marks :  500\n",
      "Marks obtained : 210\n",
      "Grade : 42.0\n",
      "number :9\n",
      "9 is odd number\n",
      "length of list is : 4\n",
      "33\n",
      "14\n",
      "1\n",
      "1\n",
      "2\n",
      "3\n"
     ]
    }
   ],
   "source": []
  },
  {
   "cell_type": "code",
   "execution_count": 2,
   "metadata": {},
   "outputs": [
    {
     "name": "stdout",
     "output_type": "stream",
     "text": [
      "\n",
      "Please type in the math operation you would like to complete:\n",
      "+ for addition\n",
      "- for subtraction\n",
      "* for multiplication\n",
      "/ for division\n",
      "** for power\n",
      "+\n",
      "Enter your first number: 4\n",
      "Enter your second number: 2\n",
      "4 + 2 = \n",
      "6\n",
      "numeric value :  1\n",
      "numeric value :  22\n",
      "numeric value :  3\n",
      "{'c': 'cycle', 'b': 'bat'}\n",
      "{'c': 'cycle', 'b': 'bat', 'a': 'apple'}\n",
      "12\n",
      "[23, 100]\n",
      "key :'a'\n",
      "Not present\n"
     ]
    }
   ],
   "source": []
  },
  {
   "cell_type": "code",
   "execution_count": null,
   "metadata": {},
   "outputs": [],
   "source": []
  }
 ],
 "metadata": {
  "kernelspec": {
   "display_name": "Python 3",
   "language": "python",
   "name": "python3"
  },
  "language_info": {
   "codemirror_mode": {
    "name": "ipython",
    "version": 3
   },
   "file_extension": ".py",
   "mimetype": "text/x-python",
   "name": "python",
   "nbconvert_exporter": "python",
   "pygments_lexer": "ipython3",
   "version": "3.7.1"
  }
 },
 "nbformat": 4,
 "nbformat_minor": 2
}
