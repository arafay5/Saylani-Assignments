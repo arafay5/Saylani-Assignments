{
 "cells": [
  {
   "cell_type": "markdown",
   "metadata": {},
   "source": [
    "#saylani assignment by abdul rafay"
   ]
  },
  {
   "cell_type": "code",
   "execution_count": 1,
   "metadata": {},
   "outputs": [
    {
     "name": "stdout",
     "output_type": "stream",
     "text": [
      "{'first name': 'Abdul ', 'last name': 'Rafay', 'age': 20, 'city': 'karachi'}\n",
      "{'first name': 'Abdul ', 'last name': 'Rafay', 'age': 20, 'city': 'karachi', 'qualification': 'university'}\n",
      "{'first name': 'Abdul ', 'last name': 'Rafay', 'age': 20, 'city': 'karachi', 'qualification': 'high academic level'}\n",
      "{'first name': 'Abdul ', 'last name': 'Rafay', 'age': 20, 'city': 'karachi'}\n",
      "{'country': 'Pakistan', 'population': '20mil', 'fact': 'bryani is too good'}\n",
      "{'country': 'Mexico', 'population': '200mil', 'fact': 'pasta is too good'}\n",
      "{'country': 'India', 'population': '10mil', 'fact': 'nehari is too good'}\n",
      "Enter your age :20\n",
      "ticket is 15$\n",
      "My favourite book is harry potter\n",
      "Enter your guess number:2\n",
      "number you guessed is smaller than the guessing number\n",
      "Enter your guess number:12\n",
      "number you guessed is smaller than the guessing number\n",
      "Enter your guess number:12\n",
      "number you guessed is smaller than the guessing number\n"
     ]
    }
   ],
   "source": [
    "#QS1\n",
    "dic = {'first name' : 'Abdul ','last name' : 'Rafay','age': 20,'city' : 'karachi'}\n",
    "print(dic)\n",
    "dic['qualification'] = 'university'\n",
    "print(dic)\n",
    "d1 = {'qualification':'high academic level'}\n",
    "dic.update(d1)\n",
    "print(dic)\n",
    "dic.popitem()\n",
    "print(dic)\n",
    "\n",
    "#QS2\n",
    "\n",
    "cities = {'Karachi' : {'country' : 'Pakistan','population' : '20mil','fact' :'bryani is too good'},\n",
    "          'Mexico': {'country': 'Mexico', 'population': '200mil', 'fact': 'pasta is too good'},\n",
    "          'dehli': {'country': 'India', 'population': '10mil', 'fact': 'nehari is too good'}}\n",
    "print(cities['Karachi'])\n",
    "print(cities['Mexico'])\n",
    "print(cities['dehli'])\n",
    "\n",
    "#QS3\n",
    "age = int(input('Enter your age :'))\n",
    "if age < 3:\n",
    "    print('ticket is free')\n",
    "elif age in range(3,12):\n",
    "    print('ticket is 10$')\n",
    "elif age > 12:\n",
    "    print('ticket is 15$')\n",
    "\n",
    "#QS4\n",
    "def favourite_book(title):\n",
    "    print('My favourite book is',title)\n",
    "\n",
    "favourite_book('harry potter')\n",
    "\n",
    "#QS5\n",
    "import random\n",
    "ran = random.randrange(1,30)\n",
    "count = 0\n",
    "while count < 3:\n",
    "    guess = int(input('Enter your guess number:'))\n",
    "    count += 1\n",
    "    if guess > ran:\n",
    "        print('number you guessed is greater than the guessing number')\n",
    "        #count += 1\n",
    "        #guess = int(input('Enter your guess name:'))\n",
    "\n",
    "    elif guess < ran:\n",
    "        print('number you guessed is smaller than the guessing number')\n",
    "        #count += 1\n",
    "        #guess = int(input('Enter your guess name:'))\n",
    "    elif guess == ran:\n",
    "        print('the number you guesses is right')\n",
    "        #count +=1\n",
    "        #guess = int(input('Enter your guess name:'))\n",
    "\n",
    "\n",
    "\n"
   ]
  },
  {
   "cell_type": "code",
   "execution_count": null,
   "metadata": {},
   "outputs": [],
   "source": []
  }
 ],
 "metadata": {
  "kernelspec": {
   "display_name": "Python 3",
   "language": "python",
   "name": "python3"
  },
  "language_info": {
   "codemirror_mode": {
    "name": "ipython",
    "version": 3
   },
   "file_extension": ".py",
   "mimetype": "text/x-python",
   "name": "python",
   "nbconvert_exporter": "python",
   "pygments_lexer": "ipython3",
   "version": "3.7.1"
  }
 },
 "nbformat": 4,
 "nbformat_minor": 2
}
