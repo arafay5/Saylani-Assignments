{
 "cells": [
  {
   "cell_type": "code",
   "execution_count": null,
   "metadata": {},
   "outputs": [],
   "source": [
    "#saylani assignment by abdul rafay"
   ]
  },
  {
   "cell_type": "code",
   "execution_count": 1,
   "metadata": {},
   "outputs": [
    {
     "name": "stdout",
     "output_type": "stream",
     "text": [
      "science marks:43\n",
      "maths marks:212\n",
      "english marks:54\n",
      "urdu marks:21\n",
      "chemistry marks:90\n",
      "Total marks :  500\n",
      "Marks obtained : 420\n",
      "Grade : 84.0\n",
      "number :10\n",
      "10  is even number\n",
      "length of list is : 4\n",
      "33\n",
      "14\n",
      "1\n",
      "1\n",
      "2\n",
      "3\n"
     ]
    }
   ],
   "source": [
    "#ASSIGNMENT 02\n",
    "#Q1\n",
    "i1 = int(input('science marks:'))\n",
    "i2 = int(input('maths marks:'))\n",
    "i3 = int(input('english marks:'))\n",
    "i4 = int(input('urdu marks:'))\n",
    "i5 = int(input('chemistry marks:'))\n",
    "\n",
    "marks_obtained = (i1+i2+i3+i4+i5)\n",
    "total_marks = 500\n",
    "\n",
    "print(\"Total marks : \",total_marks)\n",
    "print(\"Marks obtained :\",marks_obtained)\n",
    "print(\"Grade :\",marks_obtained/total_marks*100)\n",
    "\n",
    "#Q2\n",
    "var = int(input(\"number :\"))\n",
    "if var%2 == 0:\n",
    "    print(var, \" is even number\")\n",
    "else:\n",
    "    print(var,\"is odd number\")\n",
    "\n",
    "#Q3\n",
    "list = [9,8,5,9]\n",
    "print(\"length of list is :\",len(list))\n",
    "\n",
    "#Q4\n",
    "list = [7,8,9,5,4]\n",
    "sum = 0\n",
    "for i in list:\n",
    "    sum += i\n",
    "print(sum)\n",
    "\n",
    "#Q5\n",
    "list = [9,7,8,14,6]\n",
    "min = 0\n",
    "max = 0\n",
    "for i in list:\n",
    "    if i > min:\n",
    "        min = i\n",
    "print(min)\n",
    "\n",
    "#Q6\n",
    "a = [1,1,2,3,5,8,13,21,34,55,89]\n",
    "for i in a:\n",
    "    if i < 5:\n",
    "        print(i)"
   ]
  },
  {
   "cell_type": "code",
   "execution_count": null,
   "metadata": {},
   "outputs": [],
   "source": []
  }
 ],
 "metadata": {
  "kernelspec": {
   "display_name": "Python 3",
   "language": "python",
   "name": "python3"
  },
  "language_info": {
   "codemirror_mode": {
    "name": "ipython",
    "version": 3
   },
   "file_extension": ".py",
   "mimetype": "text/x-python",
   "name": "python",
   "nbconvert_exporter": "python",
   "pygments_lexer": "ipython3",
   "version": "3.7.1"
  }
 },
 "nbformat": 4,
 "nbformat_minor": 2
}
